{
 "cells": [
  {
   "cell_type": "markdown",
   "id": "4f455c2a",
   "metadata": {},
   "source": [
    "# Predict whether someone like pizza or not"
   ]
  },
  {
   "cell_type": "code",
   "execution_count": 5,
   "id": "e7076311",
   "metadata": {},
   "outputs": [],
   "source": [
    "#Import Necessary libraries and dataset\n",
    "import pandas as pd\n",
    "import matplotlib.pyplot as plt\n",
    "import seaborn as sns\n",
    "from sklearn.model_selection import train_test_split\n",
    "from sklearn.ensemble import RandomForestClassifier\n",
    "from sklearn.metrics import accuracy_score, confusion_matrix, ConfusionMatrixDisplay"
   ]
  },
  {
   "cell_type": "code",
   "execution_count": 6,
   "id": "953a1916",
   "metadata": {},
   "outputs": [],
   "source": [
    "#Example dataset\n",
    "data={\n",
    "    'Age':[25,34,45,23],\n",
    "    'Gender':['Male','Female','Male','Female'],\n",
    "    'Likes Fast Food':['Yes','No','Yes','No'],\n",
    "    'Likes Cheese':['Yes','No','No','Yes'],\n",
    "    'Likes Italian Cuisine':['Yes','Yes','No','Yes'],\n",
    "    'Likes Pizza':[1,0,0,1]\n",
    "}\n",
    "\n",
    "#Convert to DataFrame\n",
    "df=pd.DataFrame(data)"
   ]
  },
  {
   "cell_type": "code",
   "execution_count": 7,
   "id": "fd001b57",
   "metadata": {},
   "outputs": [
    {
     "data": {
      "text/plain": [
       "<Figure size 576x432 with 0 Axes>"
      ]
     },
     "execution_count": 7,
     "metadata": {},
     "output_type": "execute_result"
    },
    {
     "data": {
      "text/plain": [
       "<Figure size 576x432 with 0 Axes>"
      ]
     },
     "metadata": {},
     "output_type": "display_data"
    }
   ],
   "source": [
    "#Visualize the raw data(with seaborn)\n",
    "plt.figure(figsize=(8,6))"
   ]
  },
  {
   "cell_type": "code",
   "execution_count": 8,
   "id": "40b7a1ec",
   "metadata": {},
   "outputs": [
    {
     "data": {
      "image/png": "[encoded data removed]",
      "text/plain": [
       "<Figure size 432x288 with 2 Axes>"
      ]
     },
     "metadata": {
      "needs_background": "light"
     },
     "output_type": "display_data"
    }
   ],
   "source": [
    "sns.heatmap(df.corr(),annot=True,cmap='coolwarm',fmt='.2f',linewidths=0.5)\n",
    "plt.title('Correlation Matrix of Features')\n",
    "plt.show()"
   ]
  },
  {
   "cell_type": "code",
   "execution_count": 9,
   "id": "ead98500",
   "metadata": {},
   "outputs": [],
   "source": [
    "#Preprocess categorical columns\n",
    "df=pd.get_dummies(df,drop_first=True)"
   ]
  },
  {
   "cell_type": "code",
   "execution_count": 14,
   "id": "6c332577",
   "metadata": {},
   "outputs": [
    {
     "name": "stdout",
     "output_type": "stream",
     "text": [
      "\n",
      " X-Matrix (Features):\n",
      "   Age  Gender_Male  Likes Fast Food_Yes  Likes Cheese_Yes  \\\n",
      "0   25            1                    1                 1   \n",
      "1   34            0                    0                 0   \n",
      "2   45            1                    1                 0   \n",
      "3   23            0                    0                 1   \n",
      "\n",
      "   Likes Italian Cuisine_Yes  \n",
      "0                          1  \n",
      "1                          1  \n",
      "2                          0  \n",
      "3                          1  \n"
     ]
    }
   ],
   "source": [
    "#Features(x) and Target(y)\n",
    "x=df.drop('Likes Pizza',axis=1)\n",
    "y=df['Likes Pizza']\n",
    "print(\"\\n X-Matrix (Features):\")\n",
    "print(x.head())"
   ]
  },
  {
   "cell_type": "code",
   "execution_count": 15,
   "id": "95e2712f",
   "metadata": {},
   "outputs": [
    {
     "name": "stdout",
     "output_type": "stream",
     "text": [
      "\n",
      " Y-Vector (Target):\n"
     ]
    }
   ],
   "source": [
    "print(\"\\n Y-Vector (Target):\")"
   ]
  },
  {
   "cell_type": "code",
   "execution_count": 16,
   "id": "3f9eb088",
   "metadata": {},
   "outputs": [
    {
     "name": "stdout",
     "output_type": "stream",
     "text": [
      "0    1\n",
      "1    0\n",
      "2    0\n",
      "3    1\n",
      "Name: Likes Pizza, dtype: int64\n"
     ]
    }
   ],
   "source": [
    "print(y.head())"
   ]
  },
  {
   "cell_type": "code",
   "execution_count": null,
   "id": "4901c16e",
   "metadata": {},
   "outputs": [],
   "source": []
  }
 ],
 "metadata": {
  "kernelspec": {
   "display_name": "Python 3",
   "language": "python",
   "name": "python3"
  },
  "language_info": {
   "codemirror_mode": {
    "name": "ipython",
    "version": 3
   },
   "file_extension": ".py",
   "mimetype": "text/x-python",
   "name": "python",
   "nbconvert_exporter": "python",
   "pygments_lexer": "ipython3",
   "version": "3.8.8"
  }
 },
 "nbformat": 4,
 "nbformat_minor": 5
}
