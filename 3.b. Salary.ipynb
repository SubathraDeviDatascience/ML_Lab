{
 "cells": [
  {
   "cell_type": "code",
   "execution_count": 1,
   "id": "cf7c6daa",
   "metadata": {},
   "outputs": [],
   "source": [
    "import pandas as pd\n",
    "from sklearn.model_selection import train_test_split\n",
    "from sklearn.linear_model import LinearRegression\n",
    "from sklearn.metrics import mean_squared_error"
   ]
  },
  {
   "cell_type": "code",
   "execution_count": 2,
   "id": "3d7abd32",
   "metadata": {},
   "outputs": [],
   "source": [
    "#Load the dataset\n",
    "df=pd.read_csv(\"Salary.csv\")"
   ]
  },
  {
   "cell_type": "code",
   "execution_count": 4,
   "id": "d8c67eef",
   "metadata": {},
   "outputs": [
    {
     "name": "stdout",
     "output_type": "stream",
     "text": [
      "Preview the data\n",
      "   Year_Experience  Qualification   Industry Location  Salary\n",
      "0                2              2         IT   City A   50000\n",
      "1                5              3    Finance   City B   80000\n",
      "2                3              2         IT   City A   55000\n",
      "3                7              4    Finance   City B   90000\n",
      "4                1              1  Marketing   City C   45000\n"
     ]
    }
   ],
   "source": [
    "#Displary the dataset\n",
    "print(\"Preview the data\")\n",
    "print(df.head())"
   ]
  },
  {
   "cell_type": "code",
   "execution_count": 6,
   "id": "eb3bdec4",
   "metadata": {},
   "outputs": [],
   "source": [
    "#one-hot encoding for categorical features (industry and location)\n",
    "df=pd.get_dummies(df,columns=['Industry','Location'],drop_first=True)"
   ]
  },
  {
   "cell_type": "code",
   "execution_count": 8,
   "id": "a44778e3",
   "metadata": {},
   "outputs": [],
   "source": [
    "#Features and target\n",
    "x=df[['Year_Experience','Qualification']+[col for col in df.columns if 'Industry'in col or 'Location'in col]]\n",
    "y=df['Salary']"
   ]
  },
  {
   "cell_type": "code",
   "execution_count": 9,
   "id": "84f13b84",
   "metadata": {},
   "outputs": [],
   "source": [
    "#Split the data into training and testing sets\n",
    "x_train, x_test, y_train, y_test=train_test_split(x,y,test_size=0.2,random_state=42)"
   ]
  },
  {
   "cell_type": "code",
   "execution_count": 10,
   "id": "2c8a1a7a",
   "metadata": {},
   "outputs": [
    {
     "data": {
      "text/plain": [
       "LinearRegression()"
      ]
     },
     "execution_count": 10,
     "metadata": {},
     "output_type": "execute_result"
    }
   ],
   "source": [
    "#Initialize and train the linear regression model\n",
    "model=LinearRegression()\n",
    "model.fit(x_train,y_train)"
   ]
  },
  {
   "cell_type": "code",
   "execution_count": 11,
   "id": "06784501",
   "metadata": {},
   "outputs": [],
   "source": [
    "#Make Predictions\n",
    "y_pred=model.predict(x_test)"
   ]
  },
  {
   "cell_type": "code",
   "execution_count": 12,
   "id": "74d92959",
   "metadata": {
    "scrolled": true
   },
   "outputs": [
    {
     "name": "stdout",
     "output_type": "stream",
     "text": [
      "Mean Squared Error:4674945.215485762\n"
     ]
    }
   ],
   "source": [
    "#Evaluate the model\n",
    "mse=mean_squared_error(y_test,y_pred)\n",
    "print(f\"Mean Squared Error:{mse}\")"
   ]
  },
  {
   "cell_type": "code",
   "execution_count": 13,
   "id": "ddac172c",
   "metadata": {},
   "outputs": [],
   "source": [
    "#Ensure the new profile matches the training data structure\n",
    "new_data=pd.DataFrame({'Year_Experience':[5],\n",
    "                      'Qualification':[3],\n",
    "                       'Industry_IT':[1],\n",
    "                      'Industry_Marketing':[0],\n",
    "                      'Location_City B':[1],\n",
    "                      'Location_City C':[0],},columns=x_train.columns)"
   ]
  },
  {
   "cell_type": "code",
   "execution_count": 14,
   "id": "867c8f91",
   "metadata": {},
   "outputs": [
    {
     "name": "stdout",
     "output_type": "stream",
     "text": [
      "Predicted Salary for the new profile : 72162.16\n"
     ]
    }
   ],
   "source": [
    "#Predict salary for the specific profile\n",
    "predicted_salary = model.predict(new_data)\n",
    "print(f\"Predicted Salary for the new profile : {predicted_salary[0]:.2f}\")"
   ]
  }
 ],
 "metadata": {
  "kernelspec": {
   "display_name": "Python 3 (ipykernel)",
   "language": "python",
   "name": "python3"
  },
  "language_info": {
   "codemirror_mode": {
    "name": "ipython",
    "version": 3
   },
   "file_extension": ".py",
   "mimetype": "text/x-python",
   "name": "python",
   "nbconvert_exporter": "python",
   "pygments_lexer": "ipython3",
   "version": "3.9.12"
  }
 },
 "nbformat": 4,
 "nbformat_minor": 5
}
