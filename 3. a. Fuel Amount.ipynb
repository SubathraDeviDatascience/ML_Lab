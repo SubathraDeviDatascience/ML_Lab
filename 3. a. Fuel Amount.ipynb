{
 "cells": [
  {
   "cell_type": "code",
   "execution_count": 1,
   "id": "36cd1c2a",
   "metadata": {},
   "outputs": [],
   "source": [
    "import pandas as pd\n",
    "from sklearn.model_selection import train_test_split\n",
    "from sklearn.linear_model import LinearRegression\n",
    "from sklearn.metrics import mean_squared_error"
   ]
  },
  {
   "cell_type": "code",
   "execution_count": 2,
   "id": "05e7cee4",
   "metadata": {},
   "outputs": [],
   "source": [
    "#Load the dataset\n",
    "df=pd.read_csv('fuel data.csv')"
   ]
  },
  {
   "cell_type": "code",
   "execution_count": 3,
   "id": "c4b53e02",
   "metadata": {},
   "outputs": [
    {
     "name": "stdout",
     "output_type": "stream",
     "text": [
      "Preview the dataset\n",
      "\n",
      "   Distance  Fuel\n",
      "0        10   0.8\n",
      "1        20   1.6\n",
      "2        30   2.4\n",
      "3        40   3.2\n",
      "4        50   4.0\n"
     ]
    }
   ],
   "source": [
    "print(\"Preview the dataset\\n\")\n",
    "print(df.head())"
   ]
  },
  {
   "cell_type": "code",
   "execution_count": 5,
   "id": "0e4a88bb",
   "metadata": {},
   "outputs": [],
   "source": [
    "#Features and target\n",
    "x=df[['Distance']]\n",
    "y=df['Fuel']"
   ]
  },
  {
   "cell_type": "code",
   "execution_count": 6,
   "id": "50804a17",
   "metadata": {},
   "outputs": [],
   "source": [
    "#Split the data into training and testing sets\n",
    "x_train,x_test,y_train,y_test=train_test_split(x,y,test_size=0.2,random_state=42)"
   ]
  },
  {
   "cell_type": "code",
   "execution_count": 7,
   "id": "01e7a335",
   "metadata": {},
   "outputs": [
    {
     "data": {
      "text/plain": [
       "LinearRegression()"
      ]
     },
     "execution_count": 7,
     "metadata": {},
     "output_type": "execute_result"
    }
   ],
   "source": [
    "#Initialize and train the Linear Regression model\n",
    "model=LinearRegression()\n",
    "model.fit(x_train,y_train)"
   ]
  },
  {
   "cell_type": "code",
   "execution_count": 8,
   "id": "c19dcb37",
   "metadata": {},
   "outputs": [],
   "source": [
    "#Make Predictions\n",
    "y_pred=model.predict(x_test)"
   ]
  },
  {
   "cell_type": "code",
   "execution_count": 9,
   "id": "2f2ba746",
   "metadata": {},
   "outputs": [
    {
     "name": "stdout",
     "output_type": "stream",
     "text": [
      "Mean Squared Error:{mse}\n"
     ]
    }
   ],
   "source": [
    "#Evaluate the model\n",
    "mse=mean_squared_error(y_test,y_pred)\n",
    "print(\"Mean Squared Error:{mse}\")"
   ]
  },
  {
   "cell_type": "code",
   "execution_count": 10,
   "id": "897ab0d3",
   "metadata": {},
   "outputs": [
    {
     "name": "stdout",
     "output_type": "stream",
     "text": [
      "Model Coefficients\n",
      "Intercept:{model_intercept_}\n",
      "Slope:0.07999999999999999\n"
     ]
    }
   ],
   "source": [
    "#Coefficients of the model\n",
    "print(\"Model Coefficients\")\n",
    "print(\"Intercept:{model_intercept_}\")\n",
    "print(f\"Slope:{model.coef_[0]}\")"
   ]
  },
  {
   "cell_type": "code",
   "execution_count": 20,
   "id": "5f8d52ef",
   "metadata": {},
   "outputs": [
    {
     "name": "stdout",
     "output_type": "stream",
     "text": [
      "Predicted fuel for 150 km: 12.00 liters\n"
     ]
    }
   ],
   "source": [
    "# Predict fuel for a specific distance\n",
    "new_distance = pd.DataFrame({'Distance': [150]})\n",
    "predicted_fuel = model.predict(new_distance)\n",
    "\n",
    "print(f\"Predicted fuel for {new_distance.iloc[0]['Distance']} km: {predicted_fuel[0]:.2f} liters\")"
   ]
  }
 ],
 "metadata": {
  "kernelspec": {
   "display_name": "Python 3 (ipykernel)",
   "language": "python",
   "name": "python3"
  },
  "language_info": {
   "codemirror_mode": {
    "name": "ipython",
    "version": 3
   },
   "file_extension": ".py",
   "mimetype": "text/x-python",
   "name": "python",
   "nbconvert_exporter": "python",
   "pygments_lexer": "ipython3",
   "version": "3.9.12"
  }
 },
 "nbformat": 4,
 "nbformat_minor": 5
}
