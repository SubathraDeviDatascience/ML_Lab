{
 "cells": [
  {
   "cell_type": "code",
   "execution_count": 1,
   "id": "fa324840-3a5e-4f4d-9917-ead57defc954",
   "metadata": {},
   "outputs": [],
   "source": [
    "# Import Required Libraries\n",
    "import pandas as pd\n",
    "from sklearn.cluster import DBSCAN\n",
    "from sklearn.preprocessing import StandardScaler\n",
    "import matplotlib.pyplot as plt"
   ]
  },
  {
   "cell_type": "code",
   "execution_count": 2,
   "id": "499f1940-a773-4c28-a645-d8ddf7484bbb",
   "metadata": {},
   "outputs": [],
   "source": [
    "# Create Data in Dictionary Form\n",
    "data = {\n",
    "    \"CustomerID\": [1, 2, 3, 4, 5, 6],\n",
    "    \"AnnualIncome\": [15, 16, 17, 50, 51, 52],\n",
    "    \"SpendingScore\": [39, 36, 40, 60, 59, 58]\n",
    "}\n",
    "\n",
    "# Convert it into a DataFrame\n",
    "df = pd.DataFrame(data)"
   ]
  },
  {
   "cell_type": "code",
   "execution_count": 3,
   "id": "b247b617-d61b-4993-bd0b-b45e939c740f",
   "metadata": {},
   "outputs": [],
   "source": [
    "# Apply DBSCAN Algorithm\n",
    "# Select features for clustering\n",
    "X = df[[\"AnnualIncome\", \"SpendingScore\"]]"
   ]
  },
  {
   "cell_type": "code",
   "execution_count": 4,
   "id": "68a281b6-4431-44dd-83c3-66f263ad7dae",
   "metadata": {},
   "outputs": [],
   "source": [
    "# Standardize features\n",
    "scaler = StandardScaler()\n",
    "X_scaled = scaler.fit_transform(X)"
   ]
  },
  {
   "cell_type": "code",
   "execution_count": 5,
   "id": "06df85fc-1d5f-47bc-8206-aedb2251ccf8",
   "metadata": {},
   "outputs": [],
   "source": [
    "# Apply DBSCAN\n",
    "dbscan = DBSCAN(eps=0.5, min_samples=2)\n",
    "clusters = dbscan.fit_predict(X_scaled)"
   ]
  },
  {
   "cell_type": "code",
   "execution_count": 6,
   "id": "79312fbe-4977-41fd-85a1-f5fe289667bf",
   "metadata": {},
   "outputs": [],
   "source": [
    "# Add cluster labels to the DataFrame\n",
    "df[\"Cluster\"] = clusters"
   ]
  },
  {
   "cell_type": "code",
   "execution_count": 7,
   "id": "eeb3f7c4-1921-4946-b5d6-edc55556b6e0",
   "metadata": {},
   "outputs": [
    {
     "name": "stdout",
     "output_type": "stream",
     "text": [
      "Clustering Results:\n",
      "   CustomerID  AnnualIncome  SpendingScore  Cluster\n",
      "0           1            15             39        0\n",
      "1           2            16             36        0\n",
      "2           3            17             40        0\n",
      "3           4            50             60        1\n",
      "4           5            51             59        1\n",
      "5           6            52             58        1\n"
     ]
    }
   ],
   "source": [
    "# Analyze and Interpret Results\n",
    "print(\"Clustering Results:\")\n",
    "print(df)"
   ]
  },
  {
   "cell_type": "code",
   "execution_count": 9,
   "id": "07bff906-dff9-4b05-9d62-866a8f8ff2b5",
   "metadata": {},
   "outputs": [
    {
     "name": "stderr",
     "output_type": "stream",
     "text": [
      "C:\\Users\\HP\\AppData\\Local\\Temp\\ipykernel_12912\\873604498.py:6: UserWarning: No artists with labels found to put in legend.  Note that artists whose label start with an underscore are ignored when legend() is called with no argument.\n",
      "  plt.legend()\n"
     ]
    },
    {
     "data": {
      "image/png": "[encoded data removed]",
      "text/plain": [
       "<Figure size 640x480 with 1 Axes>"
      ]
     },
     "metadata": {},
     "output_type": "display_data"
    }
   ],
   "source": [
    "# Visualize the Clusters\n",
    "plt.scatter(df[\"AnnualIncome\"], df[\"SpendingScore\"], c=df[\"Cluster\"], cmap=\"viridis\")\n",
    "plt.xlabel(\"Annual Income\")\n",
    "plt.ylabel(\"Spending Score\")\n",
    "plt.title(\"DBSCAN Customer Segmentation\")\n",
    "plt.show()"
   ]
  }
 ],
 "metadata": {
  "kernelspec": {
   "display_name": "Python 3 (ipykernel)",
   "language": "python",
   "name": "python3"
  },
  "language_info": {
   "codemirror_mode": {
    "name": "ipython",
    "version": 3
   },
   "file_extension": ".py",
   "mimetype": "text/x-python",
   "name": "python",
   "nbconvert_exporter": "python",
   "pygments_lexer": "ipython3",
   "version": "3.12.4"
  }
 },
 "nbformat": 4,
 "nbformat_minor": 5
}
